{
 "cells": [
  {
   "cell_type": "markdown",
   "metadata": {},
   "source": [
    "# The <code>inplace</code> Parameter\n",
    "By:<a href='https://www.youtube.com/wonkyCode'>WonkyCode</a>"
   ]
  },
  {
   "cell_type": "code",
   "execution_count": 2,
   "metadata": {},
   "outputs": [],
   "source": [
    "import pandas as pd\n",
    "\n",
    "points = pd.read_csv(\"datasets/basketball.csv\", usecols=[\"PTS\"], squeeze=True)"
   ]
  },
  {
   "cell_type": "code",
   "execution_count": 3,
   "metadata": {},
   "outputs": [
    {
     "data": {
      "text/plain": [
       "0    2335\n",
       "1    1978\n",
       "2    1863\n",
       "Name: PTS, dtype: int64"
      ]
     },
     "execution_count": 3,
     "metadata": {},
     "output_type": "execute_result"
    }
   ],
   "source": [
    "points.head(3)"
   ]
  },
  {
   "cell_type": "code",
   "execution_count": 4,
   "metadata": {},
   "outputs": [
    {
     "data": {
      "text/plain": [
       "24136       0\n",
       "7407        0\n",
       "7406        0\n",
       "7405        0\n",
       "5556        0\n",
       "         ... \n",
       "48015    2478\n",
       "17080    2558\n",
       "29619    2593\n",
       "7116     2818\n",
       "48014    2832\n",
       "Name: PTS, Length: 53798, dtype: int64"
      ]
     },
     "execution_count": 4,
     "metadata": {},
     "output_type": "execute_result"
    }
   ],
   "source": [
    "points.sort_values()"
   ]
  },
  {
   "cell_type": "code",
   "execution_count": 5,
   "metadata": {},
   "outputs": [],
   "source": [
    "new_points = points.sort_values()"
   ]
  },
  {
   "cell_type": "code",
   "execution_count": 6,
   "metadata": {},
   "outputs": [
    {
     "data": {
      "text/plain": [
       "24136       0\n",
       "7407        0\n",
       "7406        0\n",
       "7405        0\n",
       "5556        0\n",
       "         ... \n",
       "48015    2478\n",
       "17080    2558\n",
       "29619    2593\n",
       "7116     2818\n",
       "48014    2832\n",
       "Name: PTS, Length: 53798, dtype: int64"
      ]
     },
     "execution_count": 6,
     "metadata": {},
     "output_type": "execute_result"
    }
   ],
   "source": [
    "new_points"
   ]
  },
  {
   "cell_type": "code",
   "execution_count": 7,
   "metadata": {},
   "outputs": [
    {
     "data": {
      "text/plain": [
       "0        2335\n",
       "1        1978\n",
       "2        1863\n",
       "3        1857\n",
       "4        1778\n",
       "         ... \n",
       "53793      17\n",
       "53794      16\n",
       "53795      15\n",
       "53796      14\n",
       "53797      12\n",
       "Name: PTS, Length: 53798, dtype: int64"
      ]
     },
     "execution_count": 7,
     "metadata": {},
     "output_type": "execute_result"
    }
   ],
   "source": [
    "points"
   ]
  },
  {
   "cell_type": "markdown",
   "metadata": {},
   "source": [
    "Above approach is one way of doing it. But it is easy if we can make use of <code>inplace</code> parameter. "
   ]
  },
  {
   "cell_type": "code",
   "execution_count": 8,
   "metadata": {},
   "outputs": [],
   "source": [
    "points = pd.read_csv(\"datasets/basketball.csv\", usecols=[\"PTS\"], squeeze=True)"
   ]
  },
  {
   "cell_type": "code",
   "execution_count": 9,
   "metadata": {},
   "outputs": [
    {
     "data": {
      "text/plain": [
       "0        2335\n",
       "1        1978\n",
       "2        1863\n",
       "3        1857\n",
       "4        1778\n",
       "         ... \n",
       "53793      17\n",
       "53794      16\n",
       "53795      15\n",
       "53796      14\n",
       "53797      12\n",
       "Name: PTS, Length: 53798, dtype: int64"
      ]
     },
     "execution_count": 9,
     "metadata": {},
     "output_type": "execute_result"
    }
   ],
   "source": [
    "points"
   ]
  },
  {
   "cell_type": "code",
   "execution_count": 10,
   "metadata": {},
   "outputs": [],
   "source": [
    "points.sort_values(ascending=False, inplace=True)"
   ]
  },
  {
   "cell_type": "code",
   "execution_count": 11,
   "metadata": {},
   "outputs": [
    {
     "data": {
      "text/plain": [
       "48014    2832\n",
       "7116     2818\n",
       "29619    2593\n",
       "17080    2558\n",
       "48015    2478\n",
       "         ... \n",
       "5556        0\n",
       "7405        0\n",
       "7406        0\n",
       "7407        0\n",
       "24136       0\n",
       "Name: PTS, Length: 53798, dtype: int64"
      ]
     },
     "execution_count": 11,
     "metadata": {},
     "output_type": "execute_result"
    }
   ],
   "source": [
    "points"
   ]
  },
  {
   "cell_type": "code",
   "execution_count": 12,
   "metadata": {},
   "outputs": [],
   "source": [
    "points.sort_values(inplace=True)"
   ]
  },
  {
   "cell_type": "code",
   "execution_count": 13,
   "metadata": {},
   "outputs": [
    {
     "data": {
      "text/plain": [
       "24136       0\n",
       "18794       0\n",
       "18795       0\n",
       "5883        0\n",
       "46337       0\n",
       "         ... \n",
       "48015    2478\n",
       "17080    2558\n",
       "29619    2593\n",
       "7116     2818\n",
       "48014    2832\n",
       "Name: PTS, Length: 53798, dtype: int64"
      ]
     },
     "execution_count": 13,
     "metadata": {},
     "output_type": "execute_result"
    }
   ],
   "source": [
    "points"
   ]
  },
  {
   "cell_type": "code",
   "execution_count": null,
   "metadata": {},
   "outputs": [],
   "source": []
  },
  {
   "cell_type": "markdown",
   "metadata": {},
   "source": [
    "**Useful References:**\n",
    "* https://stackoverflow.com/questions/43893457/understanding-inplace-true"
   ]
  },
  {
   "cell_type": "code",
   "execution_count": null,
   "metadata": {},
   "outputs": [],
   "source": []
  }
 ],
 "metadata": {
  "kernelspec": {
   "display_name": "Python 3",
   "language": "python",
   "name": "python3"
  },
  "language_info": {
   "codemirror_mode": {
    "name": "ipython",
    "version": 3
   },
   "file_extension": ".py",
   "mimetype": "text/x-python",
   "name": "python",
   "nbconvert_exporter": "python",
   "pygments_lexer": "ipython3",
   "version": "3.7.9"
  }
 },
 "nbformat": 4,
 "nbformat_minor": 4
}
