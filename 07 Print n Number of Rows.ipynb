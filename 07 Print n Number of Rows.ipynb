{
 "cells": [
  {
   "cell_type": "markdown",
   "metadata": {},
   "source": [
    "# Print n Number of Rows from a Dataset\n",
    "By:<a href='https://www.youtube.com/wonkyCode'>WonkyCode</a>"
   ]
  },
  {
   "cell_type": "markdown",
   "metadata": {},
   "source": [
    "**Using head() method** to print first n number of rows."
   ]
  },
  {
   "cell_type": "code",
   "execution_count": 1,
   "metadata": {},
   "outputs": [],
   "source": [
    "import pandas as pd\n",
    "\n",
    "player_names = pd.read_csv(\"datasets/basketball.csv\", usecols=[\"Player\"], squeeze=True)"
   ]
  },
  {
   "cell_type": "code",
   "execution_count": 4,
   "metadata": {},
   "outputs": [
    {
     "data": {
      "text/plain": [
       "0             James Harden\n",
       "1           Damian Lillard\n",
       "2             Devin Booker\n",
       "3    Giannis Antetokounmpo\n",
       "4               Trae Young\n",
       "Name: Player, dtype: object"
      ]
     },
     "execution_count": 4,
     "metadata": {},
     "output_type": "execute_result"
    }
   ],
   "source": [
    "player_names.head() #by default it prints first 5 rows"
   ]
  },
  {
   "cell_type": "markdown",
   "metadata": {},
   "source": [
    "* By default, it prints first 5 rows.\n",
    "* It creates a copy of a portion of the series.\n",
    "* It takes optional parameter to display n no of rows."
   ]
  },
  {
   "cell_type": "code",
   "execution_count": 5,
   "metadata": {},
   "outputs": [
    {
     "data": {
      "text/plain": [
       "0             James Harden\n",
       "1           Damian Lillard\n",
       "2             Devin Booker\n",
       "3    Giannis Antetokounmpo\n",
       "4               Trae Young\n",
       "5              Luka Doncic\n",
       "6             Bradley Beal\n",
       "7             LeBron James\n",
       "8         Donovan Mitchell\n",
       "9            Anthony Davis\n",
       "Name: Player, dtype: object"
      ]
     },
     "execution_count": 5,
     "metadata": {},
     "output_type": "execute_result"
    }
   ],
   "source": [
    "player_names.head(10)"
   ]
  },
  {
   "cell_type": "code",
   "execution_count": 6,
   "metadata": {},
   "outputs": [
    {
     "data": {
      "text/plain": [
       "0      James Harden\n",
       "1    Damian Lillard\n",
       "2      Devin Booker\n",
       "Name: Player, dtype: object"
      ]
     },
     "execution_count": 6,
     "metadata": {},
     "output_type": "execute_result"
    }
   ],
   "source": [
    "player_names.head(3)"
   ]
  },
  {
   "cell_type": "markdown",
   "metadata": {},
   "source": [
    "**Using tail() method** to print last n no of rows"
   ]
  },
  {
   "cell_type": "code",
   "execution_count": 7,
   "metadata": {},
   "outputs": [
    {
     "data": {
      "text/plain": [
       "53793         John Salley\n",
       "53794       Muggsy Bogues\n",
       "53795     Jerome Williams\n",
       "53796    Randy Livingston\n",
       "53797       Doug Christie\n",
       "Name: Player, dtype: object"
      ]
     },
     "execution_count": 7,
     "metadata": {},
     "output_type": "execute_result"
    }
   ],
   "source": [
    "player_names.tail()"
   ]
  },
  {
   "cell_type": "markdown",
   "metadata": {},
   "source": [
    "* It also takes an optional parameter"
   ]
  },
  {
   "cell_type": "code",
   "execution_count": 8,
   "metadata": {},
   "outputs": [
    {
     "data": {
      "text/plain": [
       "53788    Christian Laettner\n",
       "53789          Scot Pollard\n",
       "53790          Terry Porter\n",
       "53791             Joe Smith\n",
       "53792           Greg Foster\n",
       "53793           John Salley\n",
       "53794         Muggsy Bogues\n",
       "53795       Jerome Williams\n",
       "53796      Randy Livingston\n",
       "53797         Doug Christie\n",
       "Name: Player, dtype: object"
      ]
     },
     "execution_count": 8,
     "metadata": {},
     "output_type": "execute_result"
    }
   ],
   "source": [
    "player_names.tail(10)"
   ]
  },
  {
   "cell_type": "code",
   "execution_count": 9,
   "metadata": {},
   "outputs": [
    {
     "data": {
      "text/plain": [
       "53795     Jerome Williams\n",
       "53796    Randy Livingston\n",
       "53797       Doug Christie\n",
       "Name: Player, dtype: object"
      ]
     },
     "execution_count": 9,
     "metadata": {},
     "output_type": "execute_result"
    }
   ],
   "source": [
    "player_names.tail(3)"
   ]
  },
  {
   "cell_type": "markdown",
   "metadata": {},
   "source": [
    "**Useful References:**\n",
    "* https://pandas.pydata.org/pandas-docs/stable/reference/api/pandas.DataFrame.head.html\n",
    "* https://pandas.pydata.org/pandas-docs/stable/reference/api/pandas.DataFrame.tail.html"
   ]
  },
  {
   "cell_type": "code",
   "execution_count": null,
   "metadata": {},
   "outputs": [],
   "source": []
  }
 ],
 "metadata": {
  "kernelspec": {
   "display_name": "Python 3",
   "language": "python",
   "name": "python3"
  },
  "language_info": {
   "codemirror_mode": {
    "name": "ipython",
    "version": 3
   },
   "file_extension": ".py",
   "mimetype": "text/x-python",
   "name": "python",
   "nbconvert_exporter": "python",
   "pygments_lexer": "ipython3",
   "version": "3.7.9"
  }
 },
 "nbformat": 4,
 "nbformat_minor": 4
}
