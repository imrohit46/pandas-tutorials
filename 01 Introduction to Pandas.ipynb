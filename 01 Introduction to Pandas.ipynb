{
 "cells": [
  {
   "cell_type": "markdown",
   "metadata": {},
   "source": [
    "![wonkycode](images/pandas.png \"pandas logo\")\n",
    "By:<a href='https://www.youtube.com/wonkyCode'>WonkyCode</a>"
   ]
  },
  {
   "cell_type": "markdown",
   "metadata": {},
   "source": [
    "# What is Pandas ?\n",
    "\n",
    "* Pandas is a library built on top of the Python Programming language.\n",
    "* Pandas is specifically used for Data Manipulation and Analysis\n",
    "* Python got it's popularity in last 7 years in the data science community.\n",
    "* Pandas is one of the thousands of libraries available for python.\n",
    "* Every library focuses on some specility, Pandas focus is on Data Manipulation and Data Analysis.\n",
    "* A robust toolkit for analyzing, filtering, manipulating, aggregating, merging, pivoting and cleaning data.\n",
    "* If you are familiar with spreadsheet tools like MS Excel, Google Sheets, etc., Pandas is like Excel for Python.\n",
    "* It is more powerful that you can work on datasets that has tens and millions of rows in milli seconds.\n",
    "\n",
    "![wonkycode](images/pandasstatistics.png \"pandas stat\")\n",
    "![wonkycode](images/pandasstackoverflow.png \"pandas stackoverflow\")"
   ]
  },
  {
   "cell_type": "markdown",
   "metadata": {},
   "source": [
    "# Prerequisites\n",
    "* Basic knowledge of spreadsheet software.\n",
    "* Basic understanding of Python Programming\n",
    "\n",
    "**Python Programming** : https://www.youtube.com/playlist?list=PLwPDdNxG2EFesTl6p_4GOntgTLXhAYYp3\n",
    "\n",
    "**Numpy Tutorials** : https://www.youtube.com/playlist?list=PLwPDdNxG2EFfjRtpi-a0eucsHQqZhHms-"
   ]
  },
  {
   "cell_type": "markdown",
   "metadata": {},
   "source": [
    "![wonkycode](images/pandasex.jpeg \"pandas stat\")"
   ]
  },
  {
   "cell_type": "code",
   "execution_count": null,
   "metadata": {},
   "outputs": [],
   "source": []
  }
 ],
 "metadata": {
  "kernelspec": {
   "display_name": "Python 3",
   "language": "python",
   "name": "python3"
  },
  "language_info": {
   "codemirror_mode": {
    "name": "ipython",
    "version": 3
   },
   "file_extension": ".py",
   "mimetype": "text/x-python",
   "name": "python",
   "nbconvert_exporter": "python",
   "pygments_lexer": "ipython3",
   "version": "3.7.9"
  }
 },
 "nbformat": 4,
 "nbformat_minor": 4
}
