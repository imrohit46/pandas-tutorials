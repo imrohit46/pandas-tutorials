{
 "cells": [
  {
   "cell_type": "markdown",
   "metadata": {},
   "source": [
    "# Installing Pandas\n",
    "By:<a href='https://www.youtube.com/wonkyCode'>WonkyCode</a>\n",
    "\n",
    "* Python and Pandas must be installed. (**Installing Python:** https://youtu.be/YQ-9-hyPtuc)\n",
    "* Easiest option is installing the Anaconda Distribution which bundles Python, Pandas and 100+ data analysis libraries.\n",
    "* Use the terminal/command-line to update libraries and install additional ones.\n",
    "\n",
    "**Online Documentation:** \n",
    "* https://pandas.pydata.org/getting_started.html\n",
    "* https://pypi.org/project/pandas/\n",
    "\n",
    "**To install Pandas using terminal/command-line, Please execute the following command.**\n",
    "<code>pip install pandas</code>\n",
    "\n",
    "**To Update Pandas:** <code>pip update pandas</code> OR <code>conda update pandas</code>"
   ]
  },
  {
   "cell_type": "code",
   "execution_count": 5,
   "metadata": {},
   "outputs": [],
   "source": [
    "import pandas as pd"
   ]
  },
  {
   "cell_type": "code",
   "execution_count": 6,
   "metadata": {},
   "outputs": [
    {
     "data": {
      "text/plain": [
       "'1.1.3'"
      ]
     },
     "execution_count": 6,
     "metadata": {},
     "output_type": "execute_result"
    }
   ],
   "source": [
    "pd.__version__"
   ]
  },
  {
   "cell_type": "code",
   "execution_count": null,
   "metadata": {},
   "outputs": [],
   "source": []
  }
 ],
 "metadata": {
  "kernelspec": {
   "display_name": "Python 3",
   "language": "python",
   "name": "python3"
  },
  "language_info": {
   "codemirror_mode": {
    "name": "ipython",
    "version": 3
   },
   "file_extension": ".py",
   "mimetype": "text/x-python",
   "name": "python",
   "nbconvert_exporter": "python",
   "pygments_lexer": "ipython3",
   "version": "3.7.9"
  }
 },
 "nbformat": 4,
 "nbformat_minor": 4
}
