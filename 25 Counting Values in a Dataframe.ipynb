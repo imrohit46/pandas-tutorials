{
 "cells": [
  {
   "cell_type": "markdown",
   "metadata": {},
   "source": [
    "# The <code>value_counts()</code> Method in Dataframes\n",
    "By:<a href='https://www.youtube.com/wonkyCode'>WonkyCode</a>"
   ]
  },
  {
   "cell_type": "code",
   "execution_count": 1,
   "metadata": {},
   "outputs": [],
   "source": [
    "import pandas as pd\n",
    "\n",
    "dataset = pd.read_csv(\"datasets/basketball.csv\")"
   ]
  },
  {
   "cell_type": "code",
   "execution_count": 2,
   "metadata": {},
   "outputs": [
    {
     "data": {
      "text/html": [
       "<div>\n",
       "<style scoped>\n",
       "    .dataframe tbody tr th:only-of-type {\n",
       "        vertical-align: middle;\n",
       "    }\n",
       "\n",
       "    .dataframe tbody tr th {\n",
       "        vertical-align: top;\n",
       "    }\n",
       "\n",
       "    .dataframe thead th {\n",
       "        text-align: right;\n",
       "    }\n",
       "</style>\n",
       "<table border=\"1\" class=\"dataframe\">\n",
       "  <thead>\n",
       "    <tr style=\"text-align: right;\">\n",
       "      <th></th>\n",
       "      <th>League</th>\n",
       "      <th>Season</th>\n",
       "      <th>Stage</th>\n",
       "      <th>Player</th>\n",
       "      <th>Team</th>\n",
       "      <th>GP</th>\n",
       "      <th>MIN</th>\n",
       "      <th>FGM</th>\n",
       "      <th>FGA</th>\n",
       "      <th>3PM</th>\n",
       "      <th>...</th>\n",
       "      <th>PTS</th>\n",
       "      <th>birth_year</th>\n",
       "      <th>birth_month</th>\n",
       "      <th>birth_date</th>\n",
       "      <th>height</th>\n",
       "      <th>height_cm</th>\n",
       "      <th>weight</th>\n",
       "      <th>weight_kg</th>\n",
       "      <th>nationality</th>\n",
       "      <th>high_school</th>\n",
       "    </tr>\n",
       "  </thead>\n",
       "  <tbody>\n",
       "    <tr>\n",
       "      <th>0</th>\n",
       "      <td>NBA</td>\n",
       "      <td>2019 - 2020</td>\n",
       "      <td>Regular_Season</td>\n",
       "      <td>James Harden</td>\n",
       "      <td>HOU</td>\n",
       "      <td>68</td>\n",
       "      <td>2482.6</td>\n",
       "      <td>672</td>\n",
       "      <td>1514</td>\n",
       "      <td>299</td>\n",
       "      <td>...</td>\n",
       "      <td>2335</td>\n",
       "      <td>1989.0</td>\n",
       "      <td>Aug</td>\n",
       "      <td>Aug 26, 1989</td>\n",
       "      <td>06-May</td>\n",
       "      <td>196.0</td>\n",
       "      <td>220.0</td>\n",
       "      <td>100.0</td>\n",
       "      <td>United States</td>\n",
       "      <td>Artesia High School</td>\n",
       "    </tr>\n",
       "    <tr>\n",
       "      <th>1</th>\n",
       "      <td>NBA</td>\n",
       "      <td>2019 - 2020</td>\n",
       "      <td>Regular_Season</td>\n",
       "      <td>Damian Lillard</td>\n",
       "      <td>POR</td>\n",
       "      <td>66</td>\n",
       "      <td>2473.7</td>\n",
       "      <td>624</td>\n",
       "      <td>1349</td>\n",
       "      <td>270</td>\n",
       "      <td>...</td>\n",
       "      <td>1978</td>\n",
       "      <td>1990.0</td>\n",
       "      <td>Jul</td>\n",
       "      <td>Jul 15, 1990</td>\n",
       "      <td>06-Mar</td>\n",
       "      <td>191.0</td>\n",
       "      <td>195.0</td>\n",
       "      <td>88.0</td>\n",
       "      <td>United States</td>\n",
       "      <td>Oakland High School</td>\n",
       "    </tr>\n",
       "    <tr>\n",
       "      <th>2</th>\n",
       "      <td>NBA</td>\n",
       "      <td>2019 - 2020</td>\n",
       "      <td>Regular_Season</td>\n",
       "      <td>Devin Booker</td>\n",
       "      <td>PHX</td>\n",
       "      <td>70</td>\n",
       "      <td>2511.8</td>\n",
       "      <td>627</td>\n",
       "      <td>1283</td>\n",
       "      <td>141</td>\n",
       "      <td>...</td>\n",
       "      <td>1863</td>\n",
       "      <td>1996.0</td>\n",
       "      <td>Oct</td>\n",
       "      <td>Oct 30, 1996</td>\n",
       "      <td>06-Jun</td>\n",
       "      <td>198.0</td>\n",
       "      <td>206.0</td>\n",
       "      <td>93.0</td>\n",
       "      <td>United States</td>\n",
       "      <td>Moss Point High School</td>\n",
       "    </tr>\n",
       "  </tbody>\n",
       "</table>\n",
       "<p>3 rows × 31 columns</p>\n",
       "</div>"
      ],
      "text/plain": [
       "  League       Season           Stage          Player Team  GP     MIN  FGM  \\\n",
       "0    NBA  2019 - 2020  Regular_Season    James Harden  HOU  68  2482.6  672   \n",
       "1    NBA  2019 - 2020  Regular_Season  Damian Lillard  POR  66  2473.7  624   \n",
       "2    NBA  2019 - 2020  Regular_Season    Devin Booker  PHX  70  2511.8  627   \n",
       "\n",
       "    FGA  3PM  ...   PTS  birth_year  birth_month    birth_date  height  \\\n",
       "0  1514  299  ...  2335      1989.0          Aug  Aug 26, 1989  06-May   \n",
       "1  1349  270  ...  1978      1990.0          Jul  Jul 15, 1990  06-Mar   \n",
       "2  1283  141  ...  1863      1996.0          Oct  Oct 30, 1996  06-Jun   \n",
       "\n",
       "   height_cm  weight  weight_kg    nationality             high_school  \n",
       "0      196.0   220.0      100.0  United States     Artesia High School  \n",
       "1      191.0   195.0       88.0  United States     Oakland High School  \n",
       "2      198.0   206.0       93.0  United States  Moss Point High School  \n",
       "\n",
       "[3 rows x 31 columns]"
      ]
     },
     "execution_count": 2,
     "metadata": {},
     "output_type": "execute_result"
    }
   ],
   "source": [
    "dataset.head(3)"
   ]
  },
  {
   "cell_type": "code",
   "execution_count": 3,
   "metadata": {},
   "outputs": [
    {
     "data": {
      "text/plain": [
       "SAS    532\n",
       "MIL    462\n",
       "BAY    455\n",
       "UNI    434\n",
       "CHA    421\n",
       "      ... \n",
       "DOX      3\n",
       "MAY      3\n",
       "VOL      2\n",
       "WES      1\n",
       "OTO      1\n",
       "Name: Team, Length: 793, dtype: int64"
      ]
     },
     "execution_count": 3,
     "metadata": {},
     "output_type": "execute_result"
    }
   ],
   "source": [
    "dataset[\"Team\"].value_counts()"
   ]
  },
  {
   "cell_type": "code",
   "execution_count": 4,
   "metadata": {},
   "outputs": [
    {
     "data": {
      "text/plain": [
       "1989.0    3488\n",
       "1988.0    3251\n",
       "1990.0    3226\n",
       "Name: birth_year, dtype: int64"
      ]
     },
     "execution_count": 4,
     "metadata": {},
     "output_type": "execute_result"
    }
   ],
   "source": [
    "dataset[\"birth_year\"].value_counts().head(3)"
   ]
  },
  {
   "cell_type": "code",
   "execution_count": 5,
   "metadata": {},
   "outputs": [
    {
     "data": {
      "text/plain": [
       "1667738"
      ]
     },
     "execution_count": 5,
     "metadata": {},
     "output_type": "execute_result"
    }
   ],
   "source": [
    "dataset.size"
   ]
  },
  {
   "cell_type": "code",
   "execution_count": 6,
   "metadata": {},
   "outputs": [
    {
     "data": {
      "text/plain": [
       "2003.0    30\n",
       "1964.0    28\n",
       "1962.0    19\n",
       "2004.0    10\n",
       "1961.0     2\n",
       "Name: birth_year, dtype: int64"
      ]
     },
     "execution_count": 6,
     "metadata": {},
     "output_type": "execute_result"
    }
   ],
   "source": [
    "dataset[\"birth_year\"].value_counts().tail()"
   ]
  },
  {
   "cell_type": "code",
   "execution_count": 9,
   "metadata": {},
   "outputs": [
    {
     "data": {
      "text/plain": [
       "1987.0    2978\n",
       "1985.0    3099\n",
       "1990.0    3226\n",
       "1988.0    3251\n",
       "1989.0    3488\n",
       "Name: birth_year, dtype: int64"
      ]
     },
     "execution_count": 9,
     "metadata": {},
     "output_type": "execute_result"
    }
   ],
   "source": [
    "dataset[\"birth_year\"].value_counts(ascending = True).tail()"
   ]
  },
  {
   "cell_type": "code",
   "execution_count": 10,
   "metadata": {},
   "outputs": [
    {
     "data": {
      "text/plain": [
       "Team\n",
       "WES       1\n",
       "OTO       1\n",
       "VOL       2\n",
       "OSO       3\n",
       "CON       3\n",
       "       ... \n",
       "CHA     421\n",
       "UNI     434\n",
       "BAY     455\n",
       "MIL     462\n",
       "SAS     532\n",
       "Length: 793, dtype: int64"
      ]
     },
     "execution_count": 10,
     "metadata": {},
     "output_type": "execute_result"
    }
   ],
   "source": [
    "dataset.value_counts(subset = [\"Team\"], ascending = True)"
   ]
  },
  {
   "cell_type": "code",
   "execution_count": 11,
   "metadata": {},
   "outputs": [
    {
     "data": {
      "text/plain": [
       "Team  birth_year\n",
       "SAO   1989.0         1\n",
       "RIG   1982.0         1\n",
       "      1981.0         1\n",
       "RIB   1997.0         1\n",
       "      1993.0         1\n",
       "                    ..\n",
       "ATL   1986.0        47\n",
       "BAY   1989.0        52\n",
       "UNI   1980.0        57\n",
       "RUL   1988.0        58\n",
       "SAS   1982.0        63\n",
       "Length: 11629, dtype: int64"
      ]
     },
     "execution_count": 11,
     "metadata": {},
     "output_type": "execute_result"
    }
   ],
   "source": [
    "dataset.value_counts(subset = [\"Team\", \"birth_year\"], ascending = True)"
   ]
  },
  {
   "cell_type": "code",
   "execution_count": 12,
   "metadata": {},
   "outputs": [
    {
     "data": {
      "text/plain": [
       "League                 Season       Stage           Player             Team  GP  MIN     FGM  FGA  3PM  3PA  FTM  FTA  TOV  PF   ORB  DRB  REB  AST  STL  BLK  PTS   birth_year  birth_month  birth_date    height  height_cm  weight  weight_kg  nationality    high_school                      \n",
       "Ukrainian-Superleague  2019 - 2020  International   Zach Jackson       KHAR  18  516.8   80   172  20   58   42   54   38   32   9    57   66   28   17   2    222   1997.0      Aug          Aug 13, 1997  06-May  196.0      185.0   84.0       United States  Wichita High School East             1\n",
       "Finnish-Korisliiga     2017 - 2018  International   Jermaine Marshall  HEL   42  1177.6  253  554  111  270  131  153  75   115  17   136  153  92   41   24   748   1990.0      Nov          Nov 7, 1990   06-Apr  193.0      215.0   98.0       United States  Red Land Senior High School          1\n",
       "                                                    Jervon Pressley    ESPO  26  546.3   129  212  0    1    53   109  52   83   64   132  196  12   10   38   311   1992.0      Dec          Dec 16, 1992  06-Aug  203.0      250.0   113.0      United States  E.E. Waddell High School             1\n",
       "                                                    Johnathan Jordan   SAL   20  550.9   128  269  25   72   87   122  45   38   23   81   104  86   24   5    368   1992.0      Oct          Oct 7, 1992   05-Oct  178.0      180.0   82.0       United States  Hightower High School                1\n",
       "                                                    Juan Pattillo      KOR   26  827.9   248  454  0    3    75   118  63   46   44   161  205  49   44   16   571   1988.0      Mar          Mar 12, 1988  06-Jun  198.0      225.0   102.0      United States  Canyon Springs High School           1\n",
       "                                                                                                                                                                                                                                                                                                     ..\n",
       "NBA                    2005 - 2006  Regular_Season  Jarron Collins     UTA   79  1729.3  129  280  0    0    157  219  61   252  134  199  333  97   36   27   415   1978.0      Dec          Dec 2, 1978   06-Nov  211.0      248.0   112.0      United States  Harvard-Westlake School              1\n",
       "                                                    Jason Collins      NJN   71  1895.0  104  262  3    12   44   86   61   251  93   249  342  70   46   40   255   1978.0      Dec          Dec 2, 1978   7-0     213.0      255.0   116.0      United States  Harvard-Westlake School              1\n",
       "                                                    Jason Hart         SAC   66  817.8   86   221  9    31   37   56   43   85   12   59   71   70   31   5    218   1978.0      Apr          Apr 29, 1978  06-Mar  191.0      180.0   82.0       United States  Inglewood High School                1\n",
       "                                                    Jason Kidd         NJN   80  2976.1  366  905  139  395  194  244  192  157  86   494  580  672  150  29   1065  1973.0      Mar          Mar 23, 1973  06-Apr  193.0      210.0   95.0       United States  St. Joseph Notre Dame High School    1\n",
       "Argentinian-Liga-A     2011 - 2012  International   Bernard Robinson   AAQ   45  1252.4  181  380  36   100  80   106  88   120  36   156  192  74   45   8    478   1980.0      Dec          Dec 26, 1980  06-Jun  198.0      210.0   95.0       United States  Dunbar High School                   1\n",
       "Length: 23414, dtype: int64"
      ]
     },
     "execution_count": 12,
     "metadata": {},
     "output_type": "execute_result"
    }
   ],
   "source": [
    "dataset.value_counts()"
   ]
  },
  {
   "cell_type": "code",
   "execution_count": null,
   "metadata": {},
   "outputs": [],
   "source": []
  }
 ],
 "metadata": {
  "kernelspec": {
   "display_name": "Python 3",
   "language": "python",
   "name": "python3"
  },
  "language_info": {
   "codemirror_mode": {
    "name": "ipython",
    "version": 3
   },
   "file_extension": ".py",
   "mimetype": "text/x-python",
   "name": "python",
   "nbconvert_exporter": "python",
   "pygments_lexer": "ipython3",
   "version": "3.7.9"
  }
 },
 "nbformat": 4,
 "nbformat_minor": 4
}
