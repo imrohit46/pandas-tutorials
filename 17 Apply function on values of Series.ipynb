{
 "cells": [
  {
   "cell_type": "markdown",
   "metadata": {},
   "source": [
    "# The <code>apply()</code> Method\n",
    "By:<a href='https://www.youtube.com/wonkyCode'>WonkyCode</a>"
   ]
  },
  {
   "cell_type": "code",
   "execution_count": 1,
   "metadata": {},
   "outputs": [],
   "source": [
    "import pandas as pd\n",
    "\n",
    "points = pd.read_csv(\"datasets/basketball.csv\", usecols=[\"PTS\"], squeeze=True)"
   ]
  },
  {
   "cell_type": "markdown",
   "metadata": {},
   "source": [
    "* <code>apply()</code> Invoke function on values of Series.\n",
    "* Can be ufunc (a NumPy function that applies to the entire Series) or a Python function that only works on single values."
   ]
  },
  {
   "cell_type": "code",
   "execution_count": 2,
   "metadata": {},
   "outputs": [
    {
     "data": {
      "text/plain": [
       "0    2335\n",
       "1    1978\n",
       "2    1863\n",
       "3    1857\n",
       "4    1778\n",
       "Name: PTS, dtype: int64"
      ]
     },
     "execution_count": 2,
     "metadata": {},
     "output_type": "execute_result"
    }
   ],
   "source": [
    "points.head()"
   ]
  },
  {
   "cell_type": "code",
   "execution_count": 3,
   "metadata": {},
   "outputs": [],
   "source": [
    "def divby100(number):\n",
    "    return number/100"
   ]
  },
  {
   "cell_type": "code",
   "execution_count": 4,
   "metadata": {},
   "outputs": [
    {
     "data": {
      "text/plain": [
       "0        23.35\n",
       "1        19.78\n",
       "2        18.63\n",
       "3        18.57\n",
       "4        17.78\n",
       "         ...  \n",
       "53793     0.17\n",
       "53794     0.16\n",
       "53795     0.15\n",
       "53796     0.14\n",
       "53797     0.12\n",
       "Name: PTS, Length: 53798, dtype: float64"
      ]
     },
     "execution_count": 4,
     "metadata": {},
     "output_type": "execute_result"
    }
   ],
   "source": [
    "points.apply(divby100)"
   ]
  },
  {
   "cell_type": "code",
   "execution_count": 5,
   "metadata": {},
   "outputs": [],
   "source": [
    "def setTag(number):\n",
    "    if number < 500:\n",
    "        return \"Average Player\"\n",
    "    elif number >= 500 and number < 1000:\n",
    "        return \"Good Player\"\n",
    "    elif number >=1000:\n",
    "        return \"Most Valuable Player\"\n",
    "    else:\n",
    "        return \"Invalid Points\""
   ]
  },
  {
   "cell_type": "code",
   "execution_count": 6,
   "metadata": {},
   "outputs": [
    {
     "data": {
      "text/plain": [
       "0        Most Valuable Player\n",
       "1        Most Valuable Player\n",
       "2        Most Valuable Player\n",
       "3        Most Valuable Player\n",
       "4        Most Valuable Player\n",
       "                 ...         \n",
       "53793          Average Player\n",
       "53794          Average Player\n",
       "53795          Average Player\n",
       "53796          Average Player\n",
       "53797          Average Player\n",
       "Name: PTS, Length: 53798, dtype: object"
      ]
     },
     "execution_count": 6,
     "metadata": {},
     "output_type": "execute_result"
    }
   ],
   "source": [
    "points.apply(setTag)"
   ]
  },
  {
   "cell_type": "code",
   "execution_count": 7,
   "metadata": {},
   "outputs": [
    {
     "data": {
      "text/plain": [
       "0        23.35\n",
       "1        19.78\n",
       "2        18.63\n",
       "3        18.57\n",
       "4        17.78\n",
       "         ...  \n",
       "53793     0.17\n",
       "53794     0.16\n",
       "53795     0.15\n",
       "53796     0.14\n",
       "53797     0.12\n",
       "Name: PTS, Length: 53798, dtype: float64"
      ]
     },
     "execution_count": 7,
     "metadata": {},
     "output_type": "execute_result"
    }
   ],
   "source": [
    "points.apply(lambda point : point/100)"
   ]
  },
  {
   "cell_type": "markdown",
   "metadata": {},
   "source": [
    "**Useful References:**\n",
    "* https://pandas.pydata.org/pandas-docs/stable/reference/api/pandas.Series.apply.html\n",
    "* https://www.geeksforgeeks.org/python-pandas-apply/"
   ]
  },
  {
   "cell_type": "code",
   "execution_count": null,
   "metadata": {},
   "outputs": [],
   "source": []
  }
 ],
 "metadata": {
  "kernelspec": {
   "display_name": "Python 3",
   "language": "python",
   "name": "python3"
  },
  "language_info": {
   "codemirror_mode": {
    "name": "ipython",
    "version": 3
   },
   "file_extension": ".py",
   "mimetype": "text/x-python",
   "name": "python",
   "nbconvert_exporter": "python",
   "pygments_lexer": "ipython3",
   "version": "3.7.9"
  }
 },
 "nbformat": 4,
 "nbformat_minor": 4
}
